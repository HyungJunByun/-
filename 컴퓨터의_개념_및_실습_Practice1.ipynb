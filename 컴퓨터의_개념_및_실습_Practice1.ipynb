{
  "nbformat": 4,
  "nbformat_minor": 0,
  "metadata": {
    "colab": {
      "provenance": [],
      "authorship_tag": "ABX9TyPAJWoa8OtDx2rLjYeiCsht",
      "include_colab_link": true
    },
    "kernelspec": {
      "name": "python3",
      "display_name": "Python 3"
    },
    "language_info": {
      "name": "python"
    }
  },
  "cells": [
    {
      "cell_type": "markdown",
      "metadata": {
        "id": "view-in-github",
        "colab_type": "text"
      },
      "source": [
        "<a href=\"https://colab.research.google.com/github/HyungJunByun/practice-history/blob/main/%EC%BB%B4%ED%93%A8%ED%84%B0%EC%9D%98_%EA%B0%9C%EB%85%90_%EB%B0%8F_%EC%8B%A4%EC%8A%B5_Practice1.ipynb\" target=\"_parent\"><img src=\"https://colab.research.google.com/assets/colab-badge.svg\" alt=\"Open In Colab\"/></a>"
      ]
    },
    {
      "cell_type": "markdown",
      "source": [
        "problem1. H자 모양으로 \"H\" 출력하기"
      ],
      "metadata": {
        "id": "cn0AU1mnN4rn"
      }
    },
    {
      "cell_type": "code",
      "execution_count": null,
      "metadata": {
        "colab": {
          "base_uri": "https://localhost:8080/"
        },
        "id": "pVp_ibUXMA-s",
        "outputId": "2ca63fa7-2aea-4bbf-ceec-0b24d662f973"
      },
      "outputs": [
        {
          "output_type": "stream",
          "name": "stdout",
          "text": [
            "enter thickness: 4\n",
            "HHHH            HHHH\n",
            "HHHH            HHHH\n",
            "HHHH            HHHH\n",
            "HHHH            HHHH\n",
            "HHHH            HHHH\n",
            "HHHHHHHHHHHHHHHHHHHH\n",
            "HHHHHHHHHHHHHHHHHHHH\n",
            "HHHH            HHHH\n",
            "HHHH            HHHH\n",
            "HHHH            HHHH\n",
            "HHHH            HHHH\n",
            "HHHH            HHHH\n"
          ]
        }
      ],
      "source": [
        "print(\"Enter thickness: \", end='')\n",
        "n=int(input())\n",
        "for i in range(n+1):\n",
        "  print('H'*n, end='')\n",
        "  print(' '*3*n, end='')\n",
        "  print('H'*n)\n",
        "for i in range(n-2):\n",
        "  print('H'*5*n)\n",
        "for i in range(n+1):\n",
        "  print('H'*n, end='')\n",
        "  print(' '*3*n, end='')\n",
        "  print('H'*n)"
      ]
    },
    {
      "cell_type": "markdown",
      "source": [
        "problem2. 가장 많이 등장한 문자 찾기"
      ],
      "metadata": {
        "id": "5kx2lRP6N9Ht"
      }
    },
    {
      "cell_type": "code",
      "source": [
        "print(\"Enter a string:\", end='')\n",
        "s=input()\n",
        "s=s.lower() #모든 알파벳 소문자로 변경\n",
        "\n",
        "max=0 #최대 등장 횟수를 계산\n",
        "for alpha in s:\n",
        "  if alpha.isalpha():\n",
        "    if s.count(alpha)>max:\n",
        "      max=s.count(alpha)\n",
        "      result=alpha\n",
        "\n",
        "print('The most frequent character is: %s with %d occurrences.' %(result, max))"
      ],
      "metadata": {
        "colab": {
          "base_uri": "https://localhost:8080/"
        },
        "id": "GPCWdRKJM-Yj",
        "outputId": "d507e9fa-4a16-4ac3-c37c-b5f4ca617159"
      },
      "execution_count": null,
      "outputs": [
        {
          "output_type": "stream",
          "name": "stdout",
          "text": [
            "Enter a string:This is an example sentence. 한국\n",
            "The most frequent character is: e with 5 occurrences.\n"
          ]
        }
      ]
    },
    {
      "cell_type": "markdown",
      "source": [
        "problem3. 대소문자 변환하기: 문자열은 불변이다."
      ],
      "metadata": {
        "id": "qQbUbydlXl5j"
      }
    },
    {
      "cell_type": "code",
      "source": [
        "print('Enter a sentence:', end='')\n",
        "s=input()\n",
        "#문자열을 변경하는 것은 불가능하기 때문에\n",
        "result=''\n",
        "for i in range(len(s)):\n",
        "  if s[i].isalpha():\n",
        "    if ord(s[i])>96: #소문자\n",
        "      result+=chr(ord(s[i])-32)\n",
        "    else: #대문자\n",
        "      result+=chr(ord(s[i])+32)\n",
        "  else:\n",
        "    result+=s[i]\n",
        "print(result)"
      ],
      "metadata": {
        "colab": {
          "base_uri": "https://localhost:8080/"
        },
        "id": "dWzrujUuVaqy",
        "outputId": "494a0439-2a5d-4bbd-da50-7e2a7cbeab18"
      },
      "execution_count": null,
      "outputs": [
        {
          "output_type": "stream",
          "name": "stdout",
          "text": [
            "Enter a sentence:First Assignment!\n",
            "fIRST aSSIGNMENT!\n"
          ]
        }
      ]
    },
    {
      "cell_type": "markdown",
      "source": [
        "problem4. 로또 당첨번호 확인하기"
      ],
      "metadata": {
        "id": "L-IASC5_YRef"
      }
    },
    {
      "cell_type": "code",
      "source": [
        "import random\n",
        "\n",
        "lotto=[[12,15,19,21,23,35],[6,7,15,21,23,43],[12,15,23,28,37,43],[13,25,34,36,39,43],[2,13,24,34,39,44]]\n",
        "\n",
        "#당첨번호 생성\n",
        "numbers=[]\n",
        "for i in range(7):\n",
        "  #새 숫자 new가 이전에 없던 숫자임을 확인\n",
        "  while True:\n",
        "    new=random.randint(1,45)\n",
        "    if (new in numbers)==False:\n",
        "      break\n",
        "  numbers.append(new)\n",
        "\n",
        "print('당첨 번호:',numbers[:-1],'(보너스: %d)'%numbers[-1])\n",
        "for i in range(5):\n",
        "  cnt=0 #일치하는 번호의 수\n",
        "  bonus=False #보너스 숫자의 일치 여부\n",
        "  #일치하는 숫자와 보너스 숫자의 일치 여부 체크\n",
        "  for num in lotto[i]:\n",
        "    if num in numbers[:-1]:\n",
        "      cnt+=1\n",
        "    if num==numbers[-1]:\n",
        "      bonus=True\n",
        "\n",
        "  #게임 규칙에 따라 순위 결정\n",
        "  if cnt<3:\n",
        "    rank='낙첨'\n",
        "  elif cnt==3:\n",
        "    rank='5등'\n",
        "  elif cnt==4:\n",
        "    rank='4등'\n",
        "  elif cnt==5 and bonus:\n",
        "    rank='2등'\n",
        "  elif cnt==5:\n",
        "    rank='3등'\n",
        "  else:\n",
        "    rank='1등'\n",
        "  print('게임%d:'%(i+1),lotto[i])\n",
        "  print('결과:', rank)"
      ],
      "metadata": {
        "colab": {
          "base_uri": "https://localhost:8080/"
        },
        "id": "je330DdXYJKO",
        "outputId": "632d51e4-5595-4aaf-c044-98f764aa2143"
      },
      "execution_count": null,
      "outputs": [
        {
          "output_type": "stream",
          "name": "stdout",
          "text": [
            "당첨 번호: [8, 34, 38, 16, 40, 35] (보너스: 14)\n",
            "게임1: [12, 15, 19, 21, 23, 35]\n",
            "결과: 낙첨\n",
            "게임2: [6, 7, 15, 21, 23, 43]\n",
            "결과: 낙첨\n",
            "게임3: [12, 15, 23, 28, 37, 43]\n",
            "결과: 낙첨\n",
            "게임4: [13, 25, 34, 36, 39, 43]\n",
            "결과: 낙첨\n",
            "게임5: [2, 13, 24, 34, 39, 44]\n",
            "결과: 낙첨\n"
          ]
        }
      ]
    },
    {
      "cell_type": "markdown",
      "source": [
        "problem5. 리스트 회전하기"
      ],
      "metadata": {
        "id": "fbj4lO5Cg4da"
      }
    },
    {
      "cell_type": "code",
      "source": [
        "l=[i for i in range(1,11)]\n",
        "#결과가 저장되는 리스트\n",
        "result=[0]*10\n",
        "print('Enter an integer:', end=' ')\n",
        "n=int(input())\n",
        "\n",
        "#회전수행\n",
        "for i in range(len(l)):\n",
        "  result[(i+n)%10]=l[i]\n",
        "\n",
        "#형식에 맞게 출력\n",
        "for num in result[:-1]:\n",
        "  print(num, end=', ')\n",
        "print(result[-1])"
      ],
      "metadata": {
        "colab": {
          "base_uri": "https://localhost:8080/"
        },
        "id": "XuAPXe-LgCBY",
        "outputId": "e3986e58-dd38-42fe-abcc-0de0041c7eb4"
      },
      "execution_count": null,
      "outputs": [
        {
          "output_type": "stream",
          "name": "stdout",
          "text": [
            "Enter an integer: -3\n",
            "4, 5, 6, 7, 8, 9, 10, 1, 2, 3\n"
          ]
        }
      ]
    },
    {
      "cell_type": "markdown",
      "source": [
        "problem6. 집합에서 최대 최소 찾기"
      ],
      "metadata": {
        "id": "QEe5GzrVjEoL"
      }
    },
    {
      "cell_type": "code",
      "source": [
        "import random\n",
        "#문제 조건에 맞는 집합 형성\n",
        "numbers=set()\n",
        "for i in range(10):\n",
        "  #새 숫자 new가 이전에 없던 숫자임을 확인\n",
        "  while True:\n",
        "    new=random.randint(1,100)\n",
        "    if (new in numbers)==False:\n",
        "      break\n",
        "  numbers.add(new)\n",
        "\n",
        "#집합의 최대값과 최솟값 도출\n",
        "Max=0\n",
        "Min=100\n",
        "for num in numbers:\n",
        "  if num>Max:\n",
        "    Max=num\n",
        "  elif num<Min:\n",
        "    Min=num\n",
        "\n",
        "#형식에 맞게 출력\n",
        "print(numbers)\n",
        "print('Max: ', Max)\n",
        "print('Min: ', Min)\n"
      ],
      "metadata": {
        "colab": {
          "base_uri": "https://localhost:8080/"
        },
        "id": "lmEOEV6QjHji",
        "outputId": "eef67a1a-e7a2-4a42-a1d5-a111846ce7cf"
      },
      "execution_count": null,
      "outputs": [
        {
          "output_type": "stream",
          "name": "stdout",
          "text": [
            "{64, 1, 71, 17, 19, 52, 56, 92, 94, 95}\n",
            "Max:  95\n",
            "Min:  1\n"
          ]
        }
      ]
    },
    {
      "cell_type": "markdown",
      "source": [
        "problem7. 랜덤 숫자로 딕셔너리 생성하기"
      ],
      "metadata": {
        "id": "pRL1EdHHnlcQ"
      }
    },
    {
      "cell_type": "code",
      "source": [
        "import random\n",
        "#문제 조건에 맞는 리스트 형성\n",
        "numbers=list()\n",
        "for i in range(10):\n",
        "  numbers.append(random.randint(1,100))\n",
        "\n",
        "#딕셔너리로 변환\n",
        "dic={1:[],2:[],3:[]}\n",
        "for num in numbers:\n",
        "  if num<10:\n",
        "    dic[1].append(num)\n",
        "  elif num<100:\n",
        "    dic[2].append(num)\n",
        "  else:\n",
        "    dic[3].append(num)\n",
        "\n",
        "#형식에 맞게 출력\n",
        "print('List : ', numbers)\n",
        "print('Dictioinary : ', dic)"
      ],
      "metadata": {
        "colab": {
          "base_uri": "https://localhost:8080/"
        },
        "id": "eq-nkJ7CnFLC",
        "outputId": "5f215ce1-7ec7-447a-c84c-9a453bd69323"
      },
      "execution_count": null,
      "outputs": [
        {
          "output_type": "stream",
          "name": "stdout",
          "text": [
            "List :  [45, 57, 49, 100, 14, 3, 64, 8, 32, 59]\n",
            "Dictioinary :  {1: [3, 8], 2: [45, 57, 49, 14, 64, 32, 59], 3: [100]}\n"
          ]
        }
      ]
    },
    {
      "cell_type": "markdown",
      "source": [
        "problem8. 주차요금 정산하기"
      ],
      "metadata": {
        "id": "rGsjz2rqpZXU"
      }
    },
    {
      "cell_type": "code",
      "source": [
        "DATABASE= ['08:00 1234', '10:40 7788', '11:05 1915', '14:40 7290', '16:50 8282', '19:10 5790', '23:10 2424']\n",
        "#딕셔너리 8-1 생성\n",
        "data={}\n",
        "for s in DATABASE:\n",
        "  time=[]\n",
        "  time.append(int(s[0:2]))\n",
        "  time.append(int(s[3:5]))\n",
        "  data[s[6:10]]=time\n",
        "\n",
        "#딕셔너리 8-2 생성\n",
        "data_final={}\n",
        "carnumbers=data.keys()\n",
        "for car in carnumbers:\n",
        "  time=data[car][0]*60+data[car][1]\n",
        "  data_final[car]=time\n",
        "\n",
        "#주차요금 계산\n",
        "timedata='19:00' #출차 시간 데이터\n",
        "currenttime=int(timedata[0:2])*60+int(timedata[3:5])\n",
        "print('차량 번호를 입력하세요:',end=' ')\n",
        "carnumber=str(input())\n",
        "usetime=currenttime-data_final[carnumber] #이용시간\n",
        "\n",
        "charge=0 #내야하는 주차요금\n",
        "if usetime<=5:\n",
        "  charge=0\n",
        "elif usetime<=10:\n",
        "  charge=500\n",
        "elif usetime<=120:\n",
        "  charge=500*(usetime//10)\n",
        "elif usetime<=360:\n",
        "  charge=6000+1000*((usetime-120)//10)\n",
        "else:\n",
        "  charge=30000\n",
        "\n",
        "#g형식에 맞게 출력\n",
        "print('차량번호 %s의 주차요금은 %d원 입니다.'%(carnumber, charge))"
      ],
      "metadata": {
        "colab": {
          "base_uri": "https://localhost:8080/"
        },
        "id": "g9LDUw59pbz_",
        "outputId": "2ca0edef-017e-458d-ecbe-b9f0f44f1cd1"
      },
      "execution_count": null,
      "outputs": [
        {
          "output_type": "stream",
          "name": "stdout",
          "text": [
            "차량 번호를 입력하세요: 8282\n",
            "차량번호 8282의 주차요금은 7000원 입니다.\n"
          ]
        }
      ]
    },
    {
      "cell_type": "markdown",
      "source": [
        "problem9. 카드 게임 구현하기"
      ],
      "metadata": {
        "id": "qgfpcl2VwIgg"
      }
    },
    {
      "cell_type": "code",
      "source": [
        "#카드는 비복원 추출로 뽑기 때문에 단순히 randint를 사용해 바로 숫자를 얻으면 안됨\n",
        "numpool=[i for i in range(1,12)]*4  #1~11까지 4세트갇 들어간 리스트\n",
        "me=[] #내가 뽑은 카드\n",
        "dealer=[] #딜러가 뽑은 카드\n",
        "numbers=[] #카드 배정\n",
        "#0~43까지 랜덤한 인덱스를 비복원으로 추출\n",
        "for i in range(4):\n",
        "  #새 숫자 new가 이전에 없던 숫자임을 확인\n",
        "  while True:\n",
        "    new=random.randint(0,43)\n",
        "    if (new in numbers)==False:\n",
        "      break\n",
        "  numbers.append(new)\n",
        "\n",
        "me=[numpool[numbers[0]], numpool[numbers[1]]]\n",
        "dealer=[numpool[numbers[2]],numpool[numbers[3]]]\n",
        "mesum=0 #내가 뽑은 카드의 총합\n",
        "dealersum=0 #딜러가 뽑은 카드의 총합\n",
        "for i in range(2):\n",
        "  mesum+=me[i]\n",
        "  dealersum+=dealer[i]\n",
        "#문제 조건에 맞게 출력\n",
        "print(me)\n",
        "print('my socre:', mesum)\n",
        "print(dealer)\n",
        "print('dealer\\'s score:', dealersum)\n",
        "if mesum>dealersum:\n",
        "  print('Win')\n",
        "elif mesum==dealersum:\n",
        "  print('Draw')\n",
        "else:\n",
        "  print('Lose')"
      ],
      "metadata": {
        "colab": {
          "base_uri": "https://localhost:8080/"
        },
        "id": "TRFbMcrBr8oq",
        "outputId": "db8358c2-6780-482e-fc83-5954c6ac868b"
      },
      "execution_count": null,
      "outputs": [
        {
          "output_type": "stream",
          "name": "stdout",
          "text": [
            "[6, 3]\n",
            "my socre: 9\n",
            "[3, 8]\n",
            "dealer's score: 11\n",
            "Lose\n"
          ]
        }
      ]
    },
    {
      "cell_type": "markdown",
      "source": [
        "problem10. 맵에서 로봇 이동하기: 리스트 컴프리헨션을 이용하면 하나의 값을 수정하면 반복 구조대로 다 바뀐다."
      ],
      "metadata": {
        "id": "Xfv2QozIBJmo"
      }
    },
    {
      "cell_type": "code",
      "source": [
        "position=[[0,0,0,0,0],[0,0,0,0,0],[0,0,0,0,0],[0,0,0,0,0],[0,0,0,0,0]] #로봇의 위치 리스트\n",
        "\n",
        "#로봇의 초기 위치 좌표\n",
        "x=2\n",
        "y=1\n",
        "command=['R','U','R']\n",
        "\n",
        "for c in command:\n",
        "  if c=='R':\n",
        "    if y<4:\n",
        "      y+=1\n",
        "    else:\n",
        "      print('맵에서 벗어날 수 없습니다')\n",
        "  elif c=='L':\n",
        "    if y>0:\n",
        "      y-=1\n",
        "    else:\n",
        "      print('맵에서 벗어날 수 없습니다')\n",
        "  elif c=='U':\n",
        "    if x>0:\n",
        "      x-=1\n",
        "    else:\n",
        "      print('맵에서 벗어날 수 없습니다')\n",
        "  else:\n",
        "    if x<4:\n",
        "      x+=1\n",
        "    else:\n",
        "      print('맵에서 벗어날 수 없습니다')\n",
        "position[x][y]=1\n",
        "print('이동 후 맵:')\n",
        "for i in range(5):\n",
        "  print(position[i])"
      ],
      "metadata": {
        "colab": {
          "base_uri": "https://localhost:8080/"
        },
        "id": "4aB8x1r-w0jI",
        "outputId": "f3030b2d-684f-4819-bca6-b1c52cfebea3"
      },
      "execution_count": null,
      "outputs": [
        {
          "output_type": "stream",
          "name": "stdout",
          "text": [
            "이동 후 맵:\n",
            "[0, 0, 0, 0, 0]\n",
            "[0, 0, 0, 1, 0]\n",
            "[0, 0, 0, 0, 0]\n",
            "[0, 0, 0, 0, 0]\n",
            "[0, 0, 0, 0, 0]\n"
          ]
        }
      ]
    }
  ]
}