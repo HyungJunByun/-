{
  "nbformat": 4,
  "nbformat_minor": 0,
  "metadata": {
    "colab": {
      "provenance": [],
      "authorship_tag": "ABX9TyON72ADO+Ht9cGA2b6jTfqu",
      "include_colab_link": true
    },
    "kernelspec": {
      "name": "python3",
      "display_name": "Python 3"
    },
    "language_info": {
      "name": "python"
    }
  },
  "cells": [
    {
      "cell_type": "markdown",
      "metadata": {
        "id": "view-in-github",
        "colab_type": "text"
      },
      "source": [
        "<a href=\"https://colab.research.google.com/github/HyungJunByun/practice-history/blob/main/%ED%86%B5%EA%B3%84%ED%95%99%EC%8B%A4%ED%97%98_HW1.ipynb\" target=\"_parent\"><img src=\"https://colab.research.google.com/assets/colab-badge.svg\" alt=\"Open In Colab\"/></a>"
      ]
    },
    {
      "cell_type": "markdown",
      "source": [
        "예제 1. 1부터 100 사이에서 40개의 서로 다른 정수를 임의로 선택하여 저장하자"
      ],
      "metadata": {
        "id": "wuPJjnWBP8-g"
      }
    },
    {
      "cell_type": "code",
      "execution_count": 1,
      "metadata": {
        "id": "OnDWVX4oOcT2"
      },
      "outputs": [],
      "source": [
        "import numpy as np\n",
        "x=np.random.randint(1,101,40)"
      ]
    },
    {
      "cell_type": "code",
      "source": [
        "#1-1) 만들어진 벡터를 사용하여 5행 8열의 행렬을 생성하시오\n",
        "x=x.reshape(5,8)\n",
        "print(x)"
      ],
      "metadata": {
        "colab": {
          "base_uri": "https://localhost:8080/"
        },
        "id": "fjICAYmDPeFQ",
        "outputId": "521afd1f-1f49-4189-baa5-d430c4038634"
      },
      "execution_count": 3,
      "outputs": [
        {
          "output_type": "stream",
          "name": "stdout",
          "text": [
            "[[ 78  84   6  77  40  36  58  14]\n",
            " [ 84  55  80   4  19  12  61  58]\n",
            " [ 74  77  20  35  59  21  72  77]\n",
            " [ 84  18  11  41  31  48  76 100]\n",
            " [  2  79  20  74  22  85  49  21]]\n"
          ]
        }
      ]
    },
    {
      "cell_type": "code",
      "source": [
        "#1-2) 예제 1에서 생성된 행렬에서 2행과 3행만을 추출하여 저장하시오\n",
        "x2=x[1:3]\n",
        "print(x2)"
      ],
      "metadata": {
        "colab": {
          "base_uri": "https://localhost:8080/"
        },
        "id": "8MBe718NPuKV",
        "outputId": "664d46a6-1bfb-469b-b58c-ba04c28b9b88"
      },
      "execution_count": 4,
      "outputs": [
        {
          "output_type": "stream",
          "name": "stdout",
          "text": [
            "[[84 55 80  4 19 12 61 58]\n",
            " [74 77 20 35 59 21 72 77]]\n"
          ]
        }
      ]
    },
    {
      "cell_type": "code",
      "source": [
        "#1-3) 예제 1에서 생성된 행렬에서 (1,4,7,8)열을 추출하여 저장하시오\n",
        "x3=x[:,[0,3,6,7]]\n",
        "print(x3)"
      ],
      "metadata": {
        "colab": {
          "base_uri": "https://localhost:8080/"
        },
        "id": "Oeb4tQdORGYY",
        "outputId": "ae02f6aa-58d4-4308-cf6c-800024644f03"
      },
      "execution_count": 5,
      "outputs": [
        {
          "output_type": "stream",
          "name": "stdout",
          "text": [
            "[[ 78  77  58  14]\n",
            " [ 84   4  61  58]\n",
            " [ 74  35  72  77]\n",
            " [ 84  41  76 100]\n",
            " [  2  74  49  21]]\n"
          ]
        }
      ]
    },
    {
      "cell_type": "code",
      "source": [
        "#1-4) 예제 1에서 생성된 행렬의 7번째 열의 평균과 분산을 구하시오.\n",
        "print(x[:,6].mean())\n",
        "print(x[:,6].var())"
      ],
      "metadata": {
        "id": "ANhtJHAbSFjh",
        "colab": {
          "base_uri": "https://localhost:8080/"
        },
        "outputId": "5e25e07e-e82a-4428-d482-4effda945243"
      },
      "execution_count": 7,
      "outputs": [
        {
          "output_type": "stream",
          "name": "stdout",
          "text": [
            "63.2\n",
            "94.96\n"
          ]
        }
      ]
    },
    {
      "cell_type": "markdown",
      "source": [
        "예제2. 1부터 20 사이에서 1개의 숫자를 임의로 선택하여 저장하자. 이 숫자가 10이상이면 \"P\"를 출력하고 10 미만이면 \"NP\"를 출력하는 코드를 작성해보시오."
      ],
      "metadata": {
        "id": "7b45frlYy46Y"
      }
    },
    {
      "cell_type": "code",
      "source": [
        "num=np.random.randint(1,21)\n",
        "print(\"random number: %d\" %num)\n",
        "if num>=10:\n",
        "  print(\"P\")\n",
        "else:\n",
        "  print(\"NP\")"
      ],
      "metadata": {
        "colab": {
          "base_uri": "https://localhost:8080/"
        },
        "id": "is_V0DggzCAw",
        "outputId": "b727b148-6fde-43d8-ebc0-972e3f073295"
      },
      "execution_count": 12,
      "outputs": [
        {
          "output_type": "stream",
          "name": "stdout",
          "text": [
            "random number: 14\n",
            "P\n"
          ]
        }
      ]
    },
    {
      "cell_type": "markdown",
      "source": [
        "예제3. 1부터 20 사이에서 8개의 숫자를 임의로 선택하여 저장하자. 8개의 숫자들 각각에 대해 숫자가 10이상이면 \"P\"를 출력하고 10미만이면 \"NP\"를 출력하는 코드를 작성해보시오."
      ],
      "metadata": {
        "id": "s5ZWgcC-ziJB"
      }
    },
    {
      "cell_type": "code",
      "source": [
        "numlist=np.random.randint(1,21,8)\n",
        "for num in numlist:\n",
        "  if num>=10:\n",
        "    print(\"P\")\n",
        "  else:\n",
        "    print(\"NP\")"
      ],
      "metadata": {
        "colab": {
          "base_uri": "https://localhost:8080/"
        },
        "id": "KzRvNAYkybsh",
        "outputId": "9aaf9d3d-6676-4845-9b34-823703230cdf"
      },
      "execution_count": 13,
      "outputs": [
        {
          "output_type": "stream",
          "name": "stdout",
          "text": [
            "P\n",
            "NP\n",
            "NP\n",
            "NP\n",
            "P\n",
            "P\n",
            "P\n",
            "NP\n"
          ]
        }
      ]
    }
  ]
}